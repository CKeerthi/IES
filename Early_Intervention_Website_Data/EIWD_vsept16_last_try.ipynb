{
 "cells": [
  {
   "cell_type": "code",
   "execution_count": 1,
   "metadata": {},
   "outputs": [],
   "source": [
    "import pandas as pd\n",
    "import docx\n",
    "import html2text\n",
    "\n",
    "EIWD_file = pd.ExcelFile('EIWD.xlsx') #To read the excel file\n",
    "df = EIWD_file.parse('iesdata_A82A5281') #To read the sheet\n"
   ]
  },
  {
   "cell_type": "code",
   "execution_count": 2,
   "metadata": {},
   "outputs": [],
   "source": [
    "doc=docx.Document() #To create the document\n",
    "doc.add_paragraph('TITLE: ') #To insert TITLE as part of the template as seen at https://ies.ed.gov/ncser/projects/grant.asp?ProgID=27&grantid=2164\n",
    "doc.add_paragraph(html2text.html2text(df['Title'][0])) #To insert the row and column of the title of the project with the html code\n",
    "doc.add_paragraph('NAME OF INSTITUTION: ') #To insert NAME OF INSTITUTION as part of the template\n",
    "doc.add_paragraph(df['PrincipalAffiliationName'][0]) #To insert the the row and column of the PI Institution\n",
    "doc.add_paragraph('YEAR: ') #To insert YEAR as part of the template\n",
    "#doc.add_paragraph(df['Year'][0]) #I removed this part because it causes and error in the code. I think that this may be because it is a numeric value\n",
    "doc.add_paragraph('PRINCIPAL INVESTIGATOR: ') #To insert PRINCIPAL INVESTIGATOR as part of the template\n",
    "doc.add_paragraph(df[\"PrincipalName\"][0]) #To insert the the row and column of the PI-Name\n",
    "doc.add_paragraph('GOAL: ') #To insert GOAL as part of the template\n",
    "doc.add_paragraph(df[\"GoalText\"][0]) #To insert the the row and column corresponding to the Goal\n",
    "doc.add_paragraph('AWARD PERIOD: ') #To insert AWARD PERIOD: as part of the template\n",
    "doc.add_paragraph(df[\"AwardPer\"][0]) #To insert the the row and column corresponding to the Award Period\n",
    "doc.add_paragraph('AWARD AMOUNT: ') #To insert AWARD AMOUNT: as part of the template\n",
    "doc.add_paragraph(df[\"AwardAmt\"][0]) #To insert the the row and column corresponding to the Award Amount\n",
    "doc.add_paragraph('AWARD NUMBER: ') #To insert AWARD NUMBER: as part of the template\n",
    "doc.add_paragraph(df[\"AwardNum\"][0]) #To insert the the row and column corresponding to the Award Number\n",
    "doc.add_paragraph('DESCRIPTION: ') #To insert DESCRIPTION: as part of the template\n",
    "doc.add_paragraph(html2text.html2text(df[\"Abstract\"][0])) #To insert the the row and column corresponding to the Abstract\n",
    "doc.add_paragraph('OTHER INFORMATION') #To insert OTHER INFORMATION as part of the template\n",
    "doc.add_paragraph('CENTER NAME: ') #To insert CENTER NAME: as part of the template\n",
    "doc.add_paragraph(df[\"CenterName\"][0]) #To insert the the row and column corresponding to the Name of the Center that is funding\n",
    "doc.add_paragraph('FUND TYPE: ') #To insert FUND TYPE: as part of the template\n",
    "doc.add_paragraph(df[\"FundTypeDesc\"][0]) #To insert the the row and column corresponding to the Funding Type description\n",
    "doc.add_paragraph('PROGRAM NAME: ') #To insert PROGRAM NAME: as part of the template\n",
    "doc.add_paragraph(df[\"ProgramName\"][0]) #To insert the the row and column corresponding to the Program Name\n",
    "doc.add_paragraph('ID: ') #To insert ID as part of the template\n",
    "#doc.add_paragraph(df[\"ID\"][0]) #I removed this part because it causes and error in the code. I think that this may be because it is a numeric value\n",
    "doc.save(\"\".join([df['AwardNum'][0],'.docx'])) #To save the as word document with the Award Number as the name"
   ]
  },
  {
   "cell_type": "code",
   "execution_count": 8,
   "metadata": {},
   "outputs": [],
   "source": [
    "for i in range(len(df)):\n",
    "    doc=docx.Document() #To create the document\n",
    "    doc.add_paragraph('TITLE: ') #To insert TITLE as part of the template as seen at https://ies.ed.gov/ncser/projects/grant.asp?ProgID=27&grantid=2164\n",
    "    doc.add_paragraph(html2text.html2text(df['Title'][i])) #To insert the row and column of the title of the project with the html code\n",
    "    doc.add_paragraph('NAME OF INSTITUTION: ') #To insert NAME OF INSTITUTION as part of the template\n",
    "    doc.add_paragraph(df['PrincipalAffiliationName'][i]) #To insert the the row and column of the PI Institution\n",
    "    doc.add_paragraph('YEAR: ') #To insert YEAR as part of the template\n",
    "    #doc.add_paragraph(df['Year'][0]) #I removed this part because it causes and error in the code. I think that this may be because it is a numeric value\n",
    "    doc.add_paragraph('PRINCIPAL INVESTIGATOR: ') #To insert PRINCIPAL INVESTIGATOR as part of the template\n",
    "    doc.add_paragraph(df[\"PrincipalName\"][i]) #To insert the the row and column of the PI-Name\n",
    "    doc.add_paragraph('GOAL: ') #To insert GOAL as part of the template\n",
    "    doc.add_paragraph(df[\"GoalText\"][i]) #To insert the the row and column corresponding to the Goal\n",
    "    doc.add_paragraph('AWARD PERIOD: ') #To insert AWARD PERIOD: as part of the template\n",
    "    doc.add_paragraph(df[\"AwardPer\"][i]) #To insert the the row and column corresponding to the Award Period\n",
    "    doc.add_paragraph('AWARD AMOUNT: ') #To insert AWARD AMOUNT: as part of the template\n",
    "    doc.add_paragraph(df[\"AwardAmt\"][i]) #To insert the the row and column corresponding to the Award Amount\n",
    "    doc.add_paragraph('AWARD NUMBER: ') #To insert AWARD NUMBER: as part of the template\n",
    "    doc.add_paragraph(df[\"AwardNum\"][i]) #To insert the the row and column corresponding to the Award Number\n",
    "    doc.add_paragraph('DESCRIPTION: ') #To insert DESCRIPTION: as part of the template\n",
    "    doc.add_paragraph(html2text.html2text(df[\"Abstract\"][i])) #To insert the the row and column corresponding to the Abstract\n",
    "    doc.add_paragraph('OTHER INFORMATION') #To insert OTHER INFORMATION as part of the template\n",
    "    doc.add_paragraph('CENTER NAME: ') #To insert CENTER NAME: as part of the template\n",
    "    doc.add_paragraph(df[\"CenterName\"][i]) #To insert the the row and column corresponding to the Name of the Center that is funding\n",
    "    doc.add_paragraph('FUND TYPE: ') #To insert FUND TYPE: as part of the template\n",
    "    doc.add_paragraph(df[\"FundTypeDesc\"][i]) #To insert the the row and column corresponding to the Funding Type description\n",
    "    doc.add_paragraph('PROGRAM NAME: ') #To insert PROGRAM NAME: as part of the template\n",
    "    doc.add_paragraph(df[\"ProgramName\"][i]) #To insert the the row and column corresponding to the Program Name\n",
    "    doc.add_paragraph('ID: ') #To insert ID as part of the template\n",
    "    #doc.add_paragraph(df[\"ID\"][0]) #I removed this part because it causes and error in the code. I think that this may be because it is a numeric value\n",
    "    doc.save(\"\".join([df['AwardNum'][i],'.docx'])) #To save the as word document with the Award Number as the name\n"
   ]
  },
  {
   "cell_type": "code",
   "execution_count": null,
   "metadata": {},
   "outputs": [],
   "source": []
  }
 ],
 "metadata": {
  "kernelspec": {
   "display_name": "Python 3",
   "language": "python",
   "name": "python3"
  },
  "language_info": {
   "codemirror_mode": {
    "name": "ipython",
    "version": 3
   },
   "file_extension": ".py",
   "mimetype": "text/x-python",
   "name": "python",
   "nbconvert_exporter": "python",
   "pygments_lexer": "ipython3",
   "version": "3.7.0"
  }
 },
 "nbformat": 4,
 "nbformat_minor": 2
}
