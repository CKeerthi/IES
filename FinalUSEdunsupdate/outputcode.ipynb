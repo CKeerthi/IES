{
 "metadata": {
  "language_info": {
   "codemirror_mode": {
    "name": "ipython",
    "version": 3
   },
   "file_extension": ".py",
   "mimetype": "text/x-python",
   "name": "python",
   "nbconvert_exporter": "python",
   "pygments_lexer": "ipython3",
   "version": "3.8.5-final"
  },
  "orig_nbformat": 2,
  "kernelspec": {
   "name": "Python 3.8.5 32-bit",
   "display_name": "Python 3.8.5 32-bit",
   "metadata": {
    "interpreter": {
     "hash": "078791e78849c6544b9c7c0fd89ac9a9b0567d23362aff6a0349900d44115e19"
    }
   }
  }
 },
 "nbformat": 4,
 "nbformat_minor": 2,
 "cells": [
  {
   "cell_type": "code",
   "execution_count": 68,
   "metadata": {},
   "outputs": [],
   "source": [
    "import pandas as pd"
   ]
  },
  {
   "cell_type": "code",
   "execution_count": 69,
   "metadata": {},
   "outputs": [
    {
     "output_type": "execute_result",
     "data": {
      "text/plain": [
       "((185, 8), (6559, 73))"
      ]
     },
     "metadata": {},
     "execution_count": 69
    }
   ],
   "source": [
    "data1 = pd.read_excel(\"ShortListInstitutions.xlsx\")\n",
    "data2 = pd.read_excel(\"hd2019.xlsx\")\n",
    "data1.shape, data2.shape"
   ]
  },
  {
   "cell_type": "code",
   "execution_count": 70,
   "metadata": {},
   "outputs": [
    {
     "output_type": "execute_result",
     "data": {
      "text/plain": [
       "                           Institution name       DUNS AlternateDUNS  \\\n",
       "0       University of Alabama at Birmingham   63690705           NaN   \n",
       "1                     University of Alabama   45632635           NaN   \n",
       "2               University of South Alabama  172750234           NaN   \n",
       "3           University of Alaska, Fairbanks  615245164           NaN   \n",
       "4                     University of Arizona  806345617           NaN   \n",
       "..                                      ...        ...           ...   \n",
       "241  South Carolina Department of Education   69313609           NaN   \n",
       "242                       Erikson Institute  109012328           NaN   \n",
       "243        University of California, Merced  113645084           NaN   \n",
       "244               Colorado State University  785979618           NaN   \n",
       "245                   Ball State University   65540726           NaN   \n",
       "\n",
       "                 notes State      OPE   IPEDs  ZIP_x    UNITID  \\\n",
       "0                  NaN    AL   105200  100663  35294  100663.0   \n",
       "1    Tuscaloosa (only)    AL   105100  100751  35487  100751.0   \n",
       "2                  NaN    AL   105700  102094  36688  102094.0   \n",
       "3                  NaN    AK   106300  102614  99775       NaN   \n",
       "4                  NaN    AZ   108300  104179  85719  104179.0   \n",
       "..                 ...   ...      ...     ...    ...       ...   \n",
       "241                NaN    SC  3424400  392415  29201       NaN   \n",
       "242                NaN    IL  3510300  409254  60654  409254.0   \n",
       "243                NaN    CA  4127100  445188  95344  445188.0   \n",
       "244                NaN    CO  3343700  446978  80521  126818.0   \n",
       "245                NaN    IN   178600  150136  47306  150136.0   \n",
       "\n",
       "                                     INSTNM  ... CBSATYPE    CSA NECTA  \\\n",
       "0       University of Alabama at Birmingham  ...      1.0  142.0  -2.0   \n",
       "1                 The University of Alabama  ...      1.0   -2.0  -2.0   \n",
       "2               University of South Alabama  ...      1.0  380.0  -2.0   \n",
       "3                                       NaN  ...      NaN    NaN   NaN   \n",
       "4                     University of Arizona  ...      1.0  536.0  -2.0   \n",
       "..                                      ...  ...      ...    ...   ...   \n",
       "241                                     NaN  ...      NaN    NaN   NaN   \n",
       "242                       Erikson Institute  ...      1.0  176.0  -2.0   \n",
       "243         University of California-Merced  ...      1.0  488.0  -2.0   \n",
       "244  Colorado State University-Fort Collins  ...      1.0   -2.0  -2.0   \n",
       "245                   Ball State University  ...      1.0  294.0  -2.0   \n",
       "\n",
       "    COUNTYCD           COUNTYNM  CNGDSTCD    LONGITUD   LATITUDE DFRCGID  \\\n",
       "0     1073.0   Jefferson County     107.0  -86.799345  33.505697    98.0   \n",
       "1     1125.0  Tuscaloosa County     107.0  -87.545978  33.211875    96.0   \n",
       "2     1097.0      Mobile County     101.0  -88.178711  30.696033   101.0   \n",
       "3        NaN                NaN       NaN         NaN        NaN     NaN   \n",
       "4     4019.0        Pima County     403.0 -110.950815  32.232672    96.0   \n",
       "..       ...                ...       ...         ...        ...     ...   \n",
       "241      NaN                NaN       NaN         NaN        NaN     NaN   \n",
       "242  17031.0        Cook County    1707.0  -87.632178  41.890663   179.0   \n",
       "243   6047.0      Merced County     616.0 -120.424944  37.366237   102.0   \n",
       "244   8069.0     Larimer County     802.0 -105.080732  40.574805    97.0   \n",
       "245  18035.0    Delaware County    1806.0  -85.409043  40.203431   100.0   \n",
       "\n",
       "    DFRCUSCG  \n",
       "0        1.0  \n",
       "1        1.0  \n",
       "2        1.0  \n",
       "3        NaN  \n",
       "4        1.0  \n",
       "..       ...  \n",
       "241      NaN  \n",
       "242      1.0  \n",
       "243      2.0  \n",
       "244      1.0  \n",
       "245      2.0  \n",
       "\n",
       "[246 rows x 80 columns]"
      ],
      "text/html": "<div>\n<style scoped>\n    .dataframe tbody tr th:only-of-type {\n        vertical-align: middle;\n    }\n\n    .dataframe tbody tr th {\n        vertical-align: top;\n    }\n\n    .dataframe thead th {\n        text-align: right;\n    }\n</style>\n<table border=\"1\" class=\"dataframe\">\n  <thead>\n    <tr style=\"text-align: right;\">\n      <th></th>\n      <th>Institution name</th>\n      <th>DUNS</th>\n      <th>AlternateDUNS</th>\n      <th>notes</th>\n      <th>State</th>\n      <th>OPE</th>\n      <th>IPEDs</th>\n      <th>ZIP_x</th>\n      <th>UNITID</th>\n      <th>INSTNM</th>\n      <th>...</th>\n      <th>CBSATYPE</th>\n      <th>CSA</th>\n      <th>NECTA</th>\n      <th>COUNTYCD</th>\n      <th>COUNTYNM</th>\n      <th>CNGDSTCD</th>\n      <th>LONGITUD</th>\n      <th>LATITUDE</th>\n      <th>DFRCGID</th>\n      <th>DFRCUSCG</th>\n    </tr>\n  </thead>\n  <tbody>\n    <tr>\n      <th>0</th>\n      <td>University of Alabama at Birmingham</td>\n      <td>63690705</td>\n      <td>NaN</td>\n      <td>NaN</td>\n      <td>AL</td>\n      <td>105200</td>\n      <td>100663</td>\n      <td>35294</td>\n      <td>100663.0</td>\n      <td>University of Alabama at Birmingham</td>\n      <td>...</td>\n      <td>1.0</td>\n      <td>142.0</td>\n      <td>-2.0</td>\n      <td>1073.0</td>\n      <td>Jefferson County</td>\n      <td>107.0</td>\n      <td>-86.799345</td>\n      <td>33.505697</td>\n      <td>98.0</td>\n      <td>1.0</td>\n    </tr>\n    <tr>\n      <th>1</th>\n      <td>University of Alabama</td>\n      <td>45632635</td>\n      <td>NaN</td>\n      <td>Tuscaloosa (only)</td>\n      <td>AL</td>\n      <td>105100</td>\n      <td>100751</td>\n      <td>35487</td>\n      <td>100751.0</td>\n      <td>The University of Alabama</td>\n      <td>...</td>\n      <td>1.0</td>\n      <td>-2.0</td>\n      <td>-2.0</td>\n      <td>1125.0</td>\n      <td>Tuscaloosa County</td>\n      <td>107.0</td>\n      <td>-87.545978</td>\n      <td>33.211875</td>\n      <td>96.0</td>\n      <td>1.0</td>\n    </tr>\n    <tr>\n      <th>2</th>\n      <td>University of South Alabama</td>\n      <td>172750234</td>\n      <td>NaN</td>\n      <td>NaN</td>\n      <td>AL</td>\n      <td>105700</td>\n      <td>102094</td>\n      <td>36688</td>\n      <td>102094.0</td>\n      <td>University of South Alabama</td>\n      <td>...</td>\n      <td>1.0</td>\n      <td>380.0</td>\n      <td>-2.0</td>\n      <td>1097.0</td>\n      <td>Mobile County</td>\n      <td>101.0</td>\n      <td>-88.178711</td>\n      <td>30.696033</td>\n      <td>101.0</td>\n      <td>1.0</td>\n    </tr>\n    <tr>\n      <th>3</th>\n      <td>University of Alaska, Fairbanks</td>\n      <td>615245164</td>\n      <td>NaN</td>\n      <td>NaN</td>\n      <td>AK</td>\n      <td>106300</td>\n      <td>102614</td>\n      <td>99775</td>\n      <td>NaN</td>\n      <td>NaN</td>\n      <td>...</td>\n      <td>NaN</td>\n      <td>NaN</td>\n      <td>NaN</td>\n      <td>NaN</td>\n      <td>NaN</td>\n      <td>NaN</td>\n      <td>NaN</td>\n      <td>NaN</td>\n      <td>NaN</td>\n      <td>NaN</td>\n    </tr>\n    <tr>\n      <th>4</th>\n      <td>University of Arizona</td>\n      <td>806345617</td>\n      <td>NaN</td>\n      <td>NaN</td>\n      <td>AZ</td>\n      <td>108300</td>\n      <td>104179</td>\n      <td>85719</td>\n      <td>104179.0</td>\n      <td>University of Arizona</td>\n      <td>...</td>\n      <td>1.0</td>\n      <td>536.0</td>\n      <td>-2.0</td>\n      <td>4019.0</td>\n      <td>Pima County</td>\n      <td>403.0</td>\n      <td>-110.950815</td>\n      <td>32.232672</td>\n      <td>96.0</td>\n      <td>1.0</td>\n    </tr>\n    <tr>\n      <th>...</th>\n      <td>...</td>\n      <td>...</td>\n      <td>...</td>\n      <td>...</td>\n      <td>...</td>\n      <td>...</td>\n      <td>...</td>\n      <td>...</td>\n      <td>...</td>\n      <td>...</td>\n      <td>...</td>\n      <td>...</td>\n      <td>...</td>\n      <td>...</td>\n      <td>...</td>\n      <td>...</td>\n      <td>...</td>\n      <td>...</td>\n      <td>...</td>\n      <td>...</td>\n      <td>...</td>\n    </tr>\n    <tr>\n      <th>241</th>\n      <td>South Carolina Department of Education</td>\n      <td>69313609</td>\n      <td>NaN</td>\n      <td>NaN</td>\n      <td>SC</td>\n      <td>3424400</td>\n      <td>392415</td>\n      <td>29201</td>\n      <td>NaN</td>\n      <td>NaN</td>\n      <td>...</td>\n      <td>NaN</td>\n      <td>NaN</td>\n      <td>NaN</td>\n      <td>NaN</td>\n      <td>NaN</td>\n      <td>NaN</td>\n      <td>NaN</td>\n      <td>NaN</td>\n      <td>NaN</td>\n      <td>NaN</td>\n    </tr>\n    <tr>\n      <th>242</th>\n      <td>Erikson Institute</td>\n      <td>109012328</td>\n      <td>NaN</td>\n      <td>NaN</td>\n      <td>IL</td>\n      <td>3510300</td>\n      <td>409254</td>\n      <td>60654</td>\n      <td>409254.0</td>\n      <td>Erikson Institute</td>\n      <td>...</td>\n      <td>1.0</td>\n      <td>176.0</td>\n      <td>-2.0</td>\n      <td>17031.0</td>\n      <td>Cook County</td>\n      <td>1707.0</td>\n      <td>-87.632178</td>\n      <td>41.890663</td>\n      <td>179.0</td>\n      <td>1.0</td>\n    </tr>\n    <tr>\n      <th>243</th>\n      <td>University of California, Merced</td>\n      <td>113645084</td>\n      <td>NaN</td>\n      <td>NaN</td>\n      <td>CA</td>\n      <td>4127100</td>\n      <td>445188</td>\n      <td>95344</td>\n      <td>445188.0</td>\n      <td>University of California-Merced</td>\n      <td>...</td>\n      <td>1.0</td>\n      <td>488.0</td>\n      <td>-2.0</td>\n      <td>6047.0</td>\n      <td>Merced County</td>\n      <td>616.0</td>\n      <td>-120.424944</td>\n      <td>37.366237</td>\n      <td>102.0</td>\n      <td>2.0</td>\n    </tr>\n    <tr>\n      <th>244</th>\n      <td>Colorado State University</td>\n      <td>785979618</td>\n      <td>NaN</td>\n      <td>NaN</td>\n      <td>CO</td>\n      <td>3343700</td>\n      <td>446978</td>\n      <td>80521</td>\n      <td>126818.0</td>\n      <td>Colorado State University-Fort Collins</td>\n      <td>...</td>\n      <td>1.0</td>\n      <td>-2.0</td>\n      <td>-2.0</td>\n      <td>8069.0</td>\n      <td>Larimer County</td>\n      <td>802.0</td>\n      <td>-105.080732</td>\n      <td>40.574805</td>\n      <td>97.0</td>\n      <td>1.0</td>\n    </tr>\n    <tr>\n      <th>245</th>\n      <td>Ball State University</td>\n      <td>65540726</td>\n      <td>NaN</td>\n      <td>NaN</td>\n      <td>IN</td>\n      <td>178600</td>\n      <td>150136</td>\n      <td>47306</td>\n      <td>150136.0</td>\n      <td>Ball State University</td>\n      <td>...</td>\n      <td>1.0</td>\n      <td>294.0</td>\n      <td>-2.0</td>\n      <td>18035.0</td>\n      <td>Delaware County</td>\n      <td>1806.0</td>\n      <td>-85.409043</td>\n      <td>40.203431</td>\n      <td>100.0</td>\n      <td>2.0</td>\n    </tr>\n  </tbody>\n</table>\n<p>246 rows × 80 columns</p>\n</div>"
     },
     "metadata": {},
     "execution_count": 70
    }
   ],
   "source": [
    "df = pd.merge(data1, data2, on = \"DUNS\", how=\"left\")\n",
    "df"
   ]
  },
  {
   "source": [
    "df1 = df.drop_duplicates(\"DUNS\")\n",
    "df1"
   ],
   "cell_type": "code",
   "metadata": {},
   "execution_count": 71,
   "outputs": [
    {
     "output_type": "execute_result",
     "data": {
      "text/plain": [
       "                           Institution name       DUNS AlternateDUNS  \\\n",
       "0       University of Alabama at Birmingham   63690705           NaN   \n",
       "1                     University of Alabama   45632635           NaN   \n",
       "2               University of South Alabama  172750234           NaN   \n",
       "3           University of Alaska, Fairbanks  615245164           NaN   \n",
       "4                     University of Arizona  806345617           NaN   \n",
       "..                                      ...        ...           ...   \n",
       "241  South Carolina Department of Education   69313609           NaN   \n",
       "242                       Erikson Institute  109012328           NaN   \n",
       "243        University of California, Merced  113645084           NaN   \n",
       "244               Colorado State University  785979618           NaN   \n",
       "245                   Ball State University   65540726           NaN   \n",
       "\n",
       "                 notes State      OPE   IPEDs  ZIP_x    UNITID  \\\n",
       "0                  NaN    AL   105200  100663  35294  100663.0   \n",
       "1    Tuscaloosa (only)    AL   105100  100751  35487  100751.0   \n",
       "2                  NaN    AL   105700  102094  36688  102094.0   \n",
       "3                  NaN    AK   106300  102614  99775       NaN   \n",
       "4                  NaN    AZ   108300  104179  85719  104179.0   \n",
       "..                 ...   ...      ...     ...    ...       ...   \n",
       "241                NaN    SC  3424400  392415  29201       NaN   \n",
       "242                NaN    IL  3510300  409254  60654  409254.0   \n",
       "243                NaN    CA  4127100  445188  95344  445188.0   \n",
       "244                NaN    CO  3343700  446978  80521  126818.0   \n",
       "245                NaN    IN   178600  150136  47306  150136.0   \n",
       "\n",
       "                                     INSTNM  ... CBSATYPE    CSA NECTA  \\\n",
       "0       University of Alabama at Birmingham  ...      1.0  142.0  -2.0   \n",
       "1                 The University of Alabama  ...      1.0   -2.0  -2.0   \n",
       "2               University of South Alabama  ...      1.0  380.0  -2.0   \n",
       "3                                       NaN  ...      NaN    NaN   NaN   \n",
       "4                     University of Arizona  ...      1.0  536.0  -2.0   \n",
       "..                                      ...  ...      ...    ...   ...   \n",
       "241                                     NaN  ...      NaN    NaN   NaN   \n",
       "242                       Erikson Institute  ...      1.0  176.0  -2.0   \n",
       "243         University of California-Merced  ...      1.0  488.0  -2.0   \n",
       "244  Colorado State University-Fort Collins  ...      1.0   -2.0  -2.0   \n",
       "245                   Ball State University  ...      1.0  294.0  -2.0   \n",
       "\n",
       "    COUNTYCD           COUNTYNM  CNGDSTCD    LONGITUD   LATITUDE DFRCGID  \\\n",
       "0     1073.0   Jefferson County     107.0  -86.799345  33.505697    98.0   \n",
       "1     1125.0  Tuscaloosa County     107.0  -87.545978  33.211875    96.0   \n",
       "2     1097.0      Mobile County     101.0  -88.178711  30.696033   101.0   \n",
       "3        NaN                NaN       NaN         NaN        NaN     NaN   \n",
       "4     4019.0        Pima County     403.0 -110.950815  32.232672    96.0   \n",
       "..       ...                ...       ...         ...        ...     ...   \n",
       "241      NaN                NaN       NaN         NaN        NaN     NaN   \n",
       "242  17031.0        Cook County    1707.0  -87.632178  41.890663   179.0   \n",
       "243   6047.0      Merced County     616.0 -120.424944  37.366237   102.0   \n",
       "244   8069.0     Larimer County     802.0 -105.080732  40.574805    97.0   \n",
       "245  18035.0    Delaware County    1806.0  -85.409043  40.203431   100.0   \n",
       "\n",
       "    DFRCUSCG  \n",
       "0        1.0  \n",
       "1        1.0  \n",
       "2        1.0  \n",
       "3        NaN  \n",
       "4        1.0  \n",
       "..       ...  \n",
       "241      NaN  \n",
       "242      1.0  \n",
       "243      2.0  \n",
       "244      1.0  \n",
       "245      2.0  \n",
       "\n",
       "[184 rows x 80 columns]"
      ],
      "text/html": "<div>\n<style scoped>\n    .dataframe tbody tr th:only-of-type {\n        vertical-align: middle;\n    }\n\n    .dataframe tbody tr th {\n        vertical-align: top;\n    }\n\n    .dataframe thead th {\n        text-align: right;\n    }\n</style>\n<table border=\"1\" class=\"dataframe\">\n  <thead>\n    <tr style=\"text-align: right;\">\n      <th></th>\n      <th>Institution name</th>\n      <th>DUNS</th>\n      <th>AlternateDUNS</th>\n      <th>notes</th>\n      <th>State</th>\n      <th>OPE</th>\n      <th>IPEDs</th>\n      <th>ZIP_x</th>\n      <th>UNITID</th>\n      <th>INSTNM</th>\n      <th>...</th>\n      <th>CBSATYPE</th>\n      <th>CSA</th>\n      <th>NECTA</th>\n      <th>COUNTYCD</th>\n      <th>COUNTYNM</th>\n      <th>CNGDSTCD</th>\n      <th>LONGITUD</th>\n      <th>LATITUDE</th>\n      <th>DFRCGID</th>\n      <th>DFRCUSCG</th>\n    </tr>\n  </thead>\n  <tbody>\n    <tr>\n      <th>0</th>\n      <td>University of Alabama at Birmingham</td>\n      <td>63690705</td>\n      <td>NaN</td>\n      <td>NaN</td>\n      <td>AL</td>\n      <td>105200</td>\n      <td>100663</td>\n      <td>35294</td>\n      <td>100663.0</td>\n      <td>University of Alabama at Birmingham</td>\n      <td>...</td>\n      <td>1.0</td>\n      <td>142.0</td>\n      <td>-2.0</td>\n      <td>1073.0</td>\n      <td>Jefferson County</td>\n      <td>107.0</td>\n      <td>-86.799345</td>\n      <td>33.505697</td>\n      <td>98.0</td>\n      <td>1.0</td>\n    </tr>\n    <tr>\n      <th>1</th>\n      <td>University of Alabama</td>\n      <td>45632635</td>\n      <td>NaN</td>\n      <td>Tuscaloosa (only)</td>\n      <td>AL</td>\n      <td>105100</td>\n      <td>100751</td>\n      <td>35487</td>\n      <td>100751.0</td>\n      <td>The University of Alabama</td>\n      <td>...</td>\n      <td>1.0</td>\n      <td>-2.0</td>\n      <td>-2.0</td>\n      <td>1125.0</td>\n      <td>Tuscaloosa County</td>\n      <td>107.0</td>\n      <td>-87.545978</td>\n      <td>33.211875</td>\n      <td>96.0</td>\n      <td>1.0</td>\n    </tr>\n    <tr>\n      <th>2</th>\n      <td>University of South Alabama</td>\n      <td>172750234</td>\n      <td>NaN</td>\n      <td>NaN</td>\n      <td>AL</td>\n      <td>105700</td>\n      <td>102094</td>\n      <td>36688</td>\n      <td>102094.0</td>\n      <td>University of South Alabama</td>\n      <td>...</td>\n      <td>1.0</td>\n      <td>380.0</td>\n      <td>-2.0</td>\n      <td>1097.0</td>\n      <td>Mobile County</td>\n      <td>101.0</td>\n      <td>-88.178711</td>\n      <td>30.696033</td>\n      <td>101.0</td>\n      <td>1.0</td>\n    </tr>\n    <tr>\n      <th>3</th>\n      <td>University of Alaska, Fairbanks</td>\n      <td>615245164</td>\n      <td>NaN</td>\n      <td>NaN</td>\n      <td>AK</td>\n      <td>106300</td>\n      <td>102614</td>\n      <td>99775</td>\n      <td>NaN</td>\n      <td>NaN</td>\n      <td>...</td>\n      <td>NaN</td>\n      <td>NaN</td>\n      <td>NaN</td>\n      <td>NaN</td>\n      <td>NaN</td>\n      <td>NaN</td>\n      <td>NaN</td>\n      <td>NaN</td>\n      <td>NaN</td>\n      <td>NaN</td>\n    </tr>\n    <tr>\n      <th>4</th>\n      <td>University of Arizona</td>\n      <td>806345617</td>\n      <td>NaN</td>\n      <td>NaN</td>\n      <td>AZ</td>\n      <td>108300</td>\n      <td>104179</td>\n      <td>85719</td>\n      <td>104179.0</td>\n      <td>University of Arizona</td>\n      <td>...</td>\n      <td>1.0</td>\n      <td>536.0</td>\n      <td>-2.0</td>\n      <td>4019.0</td>\n      <td>Pima County</td>\n      <td>403.0</td>\n      <td>-110.950815</td>\n      <td>32.232672</td>\n      <td>96.0</td>\n      <td>1.0</td>\n    </tr>\n    <tr>\n      <th>...</th>\n      <td>...</td>\n      <td>...</td>\n      <td>...</td>\n      <td>...</td>\n      <td>...</td>\n      <td>...</td>\n      <td>...</td>\n      <td>...</td>\n      <td>...</td>\n      <td>...</td>\n      <td>...</td>\n      <td>...</td>\n      <td>...</td>\n      <td>...</td>\n      <td>...</td>\n      <td>...</td>\n      <td>...</td>\n      <td>...</td>\n      <td>...</td>\n      <td>...</td>\n      <td>...</td>\n    </tr>\n    <tr>\n      <th>241</th>\n      <td>South Carolina Department of Education</td>\n      <td>69313609</td>\n      <td>NaN</td>\n      <td>NaN</td>\n      <td>SC</td>\n      <td>3424400</td>\n      <td>392415</td>\n      <td>29201</td>\n      <td>NaN</td>\n      <td>NaN</td>\n      <td>...</td>\n      <td>NaN</td>\n      <td>NaN</td>\n      <td>NaN</td>\n      <td>NaN</td>\n      <td>NaN</td>\n      <td>NaN</td>\n      <td>NaN</td>\n      <td>NaN</td>\n      <td>NaN</td>\n      <td>NaN</td>\n    </tr>\n    <tr>\n      <th>242</th>\n      <td>Erikson Institute</td>\n      <td>109012328</td>\n      <td>NaN</td>\n      <td>NaN</td>\n      <td>IL</td>\n      <td>3510300</td>\n      <td>409254</td>\n      <td>60654</td>\n      <td>409254.0</td>\n      <td>Erikson Institute</td>\n      <td>...</td>\n      <td>1.0</td>\n      <td>176.0</td>\n      <td>-2.0</td>\n      <td>17031.0</td>\n      <td>Cook County</td>\n      <td>1707.0</td>\n      <td>-87.632178</td>\n      <td>41.890663</td>\n      <td>179.0</td>\n      <td>1.0</td>\n    </tr>\n    <tr>\n      <th>243</th>\n      <td>University of California, Merced</td>\n      <td>113645084</td>\n      <td>NaN</td>\n      <td>NaN</td>\n      <td>CA</td>\n      <td>4127100</td>\n      <td>445188</td>\n      <td>95344</td>\n      <td>445188.0</td>\n      <td>University of California-Merced</td>\n      <td>...</td>\n      <td>1.0</td>\n      <td>488.0</td>\n      <td>-2.0</td>\n      <td>6047.0</td>\n      <td>Merced County</td>\n      <td>616.0</td>\n      <td>-120.424944</td>\n      <td>37.366237</td>\n      <td>102.0</td>\n      <td>2.0</td>\n    </tr>\n    <tr>\n      <th>244</th>\n      <td>Colorado State University</td>\n      <td>785979618</td>\n      <td>NaN</td>\n      <td>NaN</td>\n      <td>CO</td>\n      <td>3343700</td>\n      <td>446978</td>\n      <td>80521</td>\n      <td>126818.0</td>\n      <td>Colorado State University-Fort Collins</td>\n      <td>...</td>\n      <td>1.0</td>\n      <td>-2.0</td>\n      <td>-2.0</td>\n      <td>8069.0</td>\n      <td>Larimer County</td>\n      <td>802.0</td>\n      <td>-105.080732</td>\n      <td>40.574805</td>\n      <td>97.0</td>\n      <td>1.0</td>\n    </tr>\n    <tr>\n      <th>245</th>\n      <td>Ball State University</td>\n      <td>65540726</td>\n      <td>NaN</td>\n      <td>NaN</td>\n      <td>IN</td>\n      <td>178600</td>\n      <td>150136</td>\n      <td>47306</td>\n      <td>150136.0</td>\n      <td>Ball State University</td>\n      <td>...</td>\n      <td>1.0</td>\n      <td>294.0</td>\n      <td>-2.0</td>\n      <td>18035.0</td>\n      <td>Delaware County</td>\n      <td>1806.0</td>\n      <td>-85.409043</td>\n      <td>40.203431</td>\n      <td>100.0</td>\n      <td>2.0</td>\n    </tr>\n  </tbody>\n</table>\n<p>184 rows × 80 columns</p>\n</div>"
     },
     "metadata": {},
     "execution_count": 71
    }
   ]
  },
  {
   "cell_type": "code",
   "execution_count": 72,
   "metadata": {},
   "outputs": [
    {
     "output_type": "execute_result",
     "data": {
      "text/plain": [
       "                           Institution name       DUNS      OPEID   IPEDs  \\\n",
       "0       University of Alabama at Birmingham   63690705   105200.0  100663   \n",
       "1                     University of Alabama   45632635   105100.0  100751   \n",
       "2               University of South Alabama  172750234   105700.0  102094   \n",
       "3           University of Alaska, Fairbanks  615245164        NaN  102614   \n",
       "4                     University of Arizona  806345617   108300.0  104179   \n",
       "..                                      ...        ...        ...     ...   \n",
       "241  South Carolina Department of Education   69313609        NaN  392415   \n",
       "242                       Erikson Institute  109012328  3510300.0  409254   \n",
       "243        University of California, Merced  113645084  4127100.0  445188   \n",
       "244               Colorado State University  785979618   135000.0  446978   \n",
       "245                   Ball State University   65540726   178600.0  150136   \n",
       "\n",
       "     ZIP_x              notes State    UNITID  SECTOR  HBCU  TRIBAL  LOCALE  \\\n",
       "0    35294                NaN    AL  100663.0     1.0   2.0     2.0    12.0   \n",
       "1    35487  Tuscaloosa (only)    AL  100751.0     1.0   2.0     2.0    12.0   \n",
       "2    36688                NaN    AL  102094.0     1.0   2.0     2.0    12.0   \n",
       "3    99775                NaN    AK       NaN     NaN   NaN     NaN     NaN   \n",
       "4    85719                NaN    AZ  104179.0     1.0   2.0     2.0    11.0   \n",
       "..     ...                ...   ...       ...     ...   ...     ...     ...   \n",
       "241  29201                NaN    SC       NaN     NaN   NaN     NaN     NaN   \n",
       "242  60654                NaN    IL  409254.0     2.0   2.0     2.0    11.0   \n",
       "243  95344                NaN    CA  445188.0     1.0   2.0     2.0    41.0   \n",
       "244  80521                NaN    CO  126818.0     1.0   2.0     2.0    12.0   \n",
       "245  47306                NaN    IN  150136.0     1.0   2.0     2.0    13.0   \n",
       "\n",
       "     OPENPUBL  CARNEGIE  \n",
       "0         1.0      15.0  \n",
       "1         1.0      15.0  \n",
       "2         1.0      16.0  \n",
       "3         NaN       NaN  \n",
       "4         1.0      15.0  \n",
       "..        ...       ...  \n",
       "241       NaN       NaN  \n",
       "242       1.0      -2.0  \n",
       "243       1.0      -2.0  \n",
       "244       1.0      15.0  \n",
       "245       1.0      16.0  \n",
       "\n",
       "[184 rows x 14 columns]"
      ],
      "text/html": "<div>\n<style scoped>\n    .dataframe tbody tr th:only-of-type {\n        vertical-align: middle;\n    }\n\n    .dataframe tbody tr th {\n        vertical-align: top;\n    }\n\n    .dataframe thead th {\n        text-align: right;\n    }\n</style>\n<table border=\"1\" class=\"dataframe\">\n  <thead>\n    <tr style=\"text-align: right;\">\n      <th></th>\n      <th>Institution name</th>\n      <th>DUNS</th>\n      <th>OPEID</th>\n      <th>IPEDs</th>\n      <th>ZIP_x</th>\n      <th>notes</th>\n      <th>State</th>\n      <th>UNITID</th>\n      <th>SECTOR</th>\n      <th>HBCU</th>\n      <th>TRIBAL</th>\n      <th>LOCALE</th>\n      <th>OPENPUBL</th>\n      <th>CARNEGIE</th>\n    </tr>\n  </thead>\n  <tbody>\n    <tr>\n      <th>0</th>\n      <td>University of Alabama at Birmingham</td>\n      <td>63690705</td>\n      <td>105200.0</td>\n      <td>100663</td>\n      <td>35294</td>\n      <td>NaN</td>\n      <td>AL</td>\n      <td>100663.0</td>\n      <td>1.0</td>\n      <td>2.0</td>\n      <td>2.0</td>\n      <td>12.0</td>\n      <td>1.0</td>\n      <td>15.0</td>\n    </tr>\n    <tr>\n      <th>1</th>\n      <td>University of Alabama</td>\n      <td>45632635</td>\n      <td>105100.0</td>\n      <td>100751</td>\n      <td>35487</td>\n      <td>Tuscaloosa (only)</td>\n      <td>AL</td>\n      <td>100751.0</td>\n      <td>1.0</td>\n      <td>2.0</td>\n      <td>2.0</td>\n      <td>12.0</td>\n      <td>1.0</td>\n      <td>15.0</td>\n    </tr>\n    <tr>\n      <th>2</th>\n      <td>University of South Alabama</td>\n      <td>172750234</td>\n      <td>105700.0</td>\n      <td>102094</td>\n      <td>36688</td>\n      <td>NaN</td>\n      <td>AL</td>\n      <td>102094.0</td>\n      <td>1.0</td>\n      <td>2.0</td>\n      <td>2.0</td>\n      <td>12.0</td>\n      <td>1.0</td>\n      <td>16.0</td>\n    </tr>\n    <tr>\n      <th>3</th>\n      <td>University of Alaska, Fairbanks</td>\n      <td>615245164</td>\n      <td>NaN</td>\n      <td>102614</td>\n      <td>99775</td>\n      <td>NaN</td>\n      <td>AK</td>\n      <td>NaN</td>\n      <td>NaN</td>\n      <td>NaN</td>\n      <td>NaN</td>\n      <td>NaN</td>\n      <td>NaN</td>\n      <td>NaN</td>\n    </tr>\n    <tr>\n      <th>4</th>\n      <td>University of Arizona</td>\n      <td>806345617</td>\n      <td>108300.0</td>\n      <td>104179</td>\n      <td>85719</td>\n      <td>NaN</td>\n      <td>AZ</td>\n      <td>104179.0</td>\n      <td>1.0</td>\n      <td>2.0</td>\n      <td>2.0</td>\n      <td>11.0</td>\n      <td>1.0</td>\n      <td>15.0</td>\n    </tr>\n    <tr>\n      <th>...</th>\n      <td>...</td>\n      <td>...</td>\n      <td>...</td>\n      <td>...</td>\n      <td>...</td>\n      <td>...</td>\n      <td>...</td>\n      <td>...</td>\n      <td>...</td>\n      <td>...</td>\n      <td>...</td>\n      <td>...</td>\n      <td>...</td>\n      <td>...</td>\n    </tr>\n    <tr>\n      <th>241</th>\n      <td>South Carolina Department of Education</td>\n      <td>69313609</td>\n      <td>NaN</td>\n      <td>392415</td>\n      <td>29201</td>\n      <td>NaN</td>\n      <td>SC</td>\n      <td>NaN</td>\n      <td>NaN</td>\n      <td>NaN</td>\n      <td>NaN</td>\n      <td>NaN</td>\n      <td>NaN</td>\n      <td>NaN</td>\n    </tr>\n    <tr>\n      <th>242</th>\n      <td>Erikson Institute</td>\n      <td>109012328</td>\n      <td>3510300.0</td>\n      <td>409254</td>\n      <td>60654</td>\n      <td>NaN</td>\n      <td>IL</td>\n      <td>409254.0</td>\n      <td>2.0</td>\n      <td>2.0</td>\n      <td>2.0</td>\n      <td>11.0</td>\n      <td>1.0</td>\n      <td>-2.0</td>\n    </tr>\n    <tr>\n      <th>243</th>\n      <td>University of California, Merced</td>\n      <td>113645084</td>\n      <td>4127100.0</td>\n      <td>445188</td>\n      <td>95344</td>\n      <td>NaN</td>\n      <td>CA</td>\n      <td>445188.0</td>\n      <td>1.0</td>\n      <td>2.0</td>\n      <td>2.0</td>\n      <td>41.0</td>\n      <td>1.0</td>\n      <td>-2.0</td>\n    </tr>\n    <tr>\n      <th>244</th>\n      <td>Colorado State University</td>\n      <td>785979618</td>\n      <td>135000.0</td>\n      <td>446978</td>\n      <td>80521</td>\n      <td>NaN</td>\n      <td>CO</td>\n      <td>126818.0</td>\n      <td>1.0</td>\n      <td>2.0</td>\n      <td>2.0</td>\n      <td>12.0</td>\n      <td>1.0</td>\n      <td>15.0</td>\n    </tr>\n    <tr>\n      <th>245</th>\n      <td>Ball State University</td>\n      <td>65540726</td>\n      <td>178600.0</td>\n      <td>150136</td>\n      <td>47306</td>\n      <td>NaN</td>\n      <td>IN</td>\n      <td>150136.0</td>\n      <td>1.0</td>\n      <td>2.0</td>\n      <td>2.0</td>\n      <td>13.0</td>\n      <td>1.0</td>\n      <td>16.0</td>\n    </tr>\n  </tbody>\n</table>\n<p>184 rows × 14 columns</p>\n</div>"
     },
     "metadata": {},
     "execution_count": 72
    }
   ],
   "source": [
    "df2 = df1[[\"Institution name\", \"DUNS\",\"OPEID\",\"IPEDs\",\"ZIP_x\",\"notes\",\"State\",\"UNITID\",\"SECTOR\",\"HBCU\",\"TRIBAL\",\"LOCALE\",\"OPENPUBL\",\"CARNEGIE\"]]\n",
    "df2"
   ]
  },
  {
   "cell_type": "code",
   "execution_count": 73,
   "metadata": {},
   "outputs": [],
   "source": [
    "df2.to_csv(\"output2.csv\")"
   ]
  },
  {
   "cell_type": "code",
   "execution_count": 83,
   "metadata": {},
   "outputs": [
    {
     "output_type": "execute_result",
     "data": {
      "text/plain": [
       "                        Institution name       DUNS AlternateDUNS  \\\n",
       "0    University of Alabama at Birmingham   63690705           NaN   \n",
       "1                  University of Alabama   45632635           NaN   \n",
       "2            University of South Alabama  172750234           NaN   \n",
       "3        University of Alaska, Fairbanks  615245164           NaN   \n",
       "4                  University of Arizona  806345617           NaN   \n",
       "..                                   ...        ...           ...   \n",
       "571    Wisconsin Department of Education  809611254           NaN   \n",
       "572      Wyoming Department of Education  809872336           NaN   \n",
       "573                              Zaption  079279749           NaN   \n",
       "574                   Zuni Learning Tree  080494814           NaN   \n",
       "575                               Zyante  033385935           NaN   \n",
       "\n",
       "                 notes State       OPE     IPEDs  ZIP_x    UNITID  \\\n",
       "0                  NaN    AL  105200.0  100663.0  35294  100663.0   \n",
       "1    Tuscaloosa (only)    AL  105100.0  100751.0  35487  100751.0   \n",
       "2                  NaN    AL  105700.0  102094.0  36688  102094.0   \n",
       "3                  NaN    AK  106300.0  102614.0  99775       NaN   \n",
       "4                  NaN    AZ  108300.0  104179.0  85719  104179.0   \n",
       "..                 ...   ...       ...       ...    ...       ...   \n",
       "571                NaN    WI       NaN       NaN  53703       NaN   \n",
       "572                NaN    WY       NaN       NaN  82001       NaN   \n",
       "573  no special status    CA       NaN       NaN  91360       NaN   \n",
       "574        Woman owned    AR       NaN       NaN  72034       NaN   \n",
       "575  no special status    CA       NaN       NaN  95033       NaN   \n",
       "\n",
       "                                  INSTNM  ... CBSATYPE    CSA NECTA COUNTYCD  \\\n",
       "0    University of Alabama at Birmingham  ...      1.0  142.0  -2.0   1073.0   \n",
       "1              The University of Alabama  ...      1.0   -2.0  -2.0   1125.0   \n",
       "2            University of South Alabama  ...      1.0  380.0  -2.0   1097.0   \n",
       "3                                    NaN  ...      NaN    NaN   NaN      NaN   \n",
       "4                  University of Arizona  ...      1.0  536.0  -2.0   4019.0   \n",
       "..                                   ...  ...      ...    ...   ...      ...   \n",
       "571                                  NaN  ...      NaN    NaN   NaN      NaN   \n",
       "572                                  NaN  ...      NaN    NaN   NaN      NaN   \n",
       "573                                  NaN  ...      NaN    NaN   NaN      NaN   \n",
       "574                                  NaN  ...      NaN    NaN   NaN      NaN   \n",
       "575                                  NaN  ...      NaN    NaN   NaN      NaN   \n",
       "\n",
       "              COUNTYNM  CNGDSTCD    LONGITUD   LATITUDE DFRCGID DFRCUSCG  \n",
       "0     Jefferson County     107.0  -86.799345  33.505697    98.0      1.0  \n",
       "1    Tuscaloosa County     107.0  -87.545978  33.211875    96.0      1.0  \n",
       "2        Mobile County     101.0  -88.178711  30.696033   101.0      1.0  \n",
       "3                  NaN       NaN         NaN        NaN     NaN      NaN  \n",
       "4          Pima County     403.0 -110.950815  32.232672    96.0      1.0  \n",
       "..                 ...       ...         ...        ...     ...      ...  \n",
       "571                NaN       NaN         NaN        NaN     NaN      NaN  \n",
       "572                NaN       NaN         NaN        NaN     NaN      NaN  \n",
       "573                NaN       NaN         NaN        NaN     NaN      NaN  \n",
       "574                NaN       NaN         NaN        NaN     NaN      NaN  \n",
       "575                NaN       NaN         NaN        NaN     NaN      NaN  \n",
       "\n",
       "[576 rows x 80 columns]"
      ],
      "text/html": "<div>\n<style scoped>\n    .dataframe tbody tr th:only-of-type {\n        vertical-align: middle;\n    }\n\n    .dataframe tbody tr th {\n        vertical-align: top;\n    }\n\n    .dataframe thead th {\n        text-align: right;\n    }\n</style>\n<table border=\"1\" class=\"dataframe\">\n  <thead>\n    <tr style=\"text-align: right;\">\n      <th></th>\n      <th>Institution name</th>\n      <th>DUNS</th>\n      <th>AlternateDUNS</th>\n      <th>notes</th>\n      <th>State</th>\n      <th>OPE</th>\n      <th>IPEDs</th>\n      <th>ZIP_x</th>\n      <th>UNITID</th>\n      <th>INSTNM</th>\n      <th>...</th>\n      <th>CBSATYPE</th>\n      <th>CSA</th>\n      <th>NECTA</th>\n      <th>COUNTYCD</th>\n      <th>COUNTYNM</th>\n      <th>CNGDSTCD</th>\n      <th>LONGITUD</th>\n      <th>LATITUDE</th>\n      <th>DFRCGID</th>\n      <th>DFRCUSCG</th>\n    </tr>\n  </thead>\n  <tbody>\n    <tr>\n      <th>0</th>\n      <td>University of Alabama at Birmingham</td>\n      <td>63690705</td>\n      <td>NaN</td>\n      <td>NaN</td>\n      <td>AL</td>\n      <td>105200.0</td>\n      <td>100663.0</td>\n      <td>35294</td>\n      <td>100663.0</td>\n      <td>University of Alabama at Birmingham</td>\n      <td>...</td>\n      <td>1.0</td>\n      <td>142.0</td>\n      <td>-2.0</td>\n      <td>1073.0</td>\n      <td>Jefferson County</td>\n      <td>107.0</td>\n      <td>-86.799345</td>\n      <td>33.505697</td>\n      <td>98.0</td>\n      <td>1.0</td>\n    </tr>\n    <tr>\n      <th>1</th>\n      <td>University of Alabama</td>\n      <td>45632635</td>\n      <td>NaN</td>\n      <td>Tuscaloosa (only)</td>\n      <td>AL</td>\n      <td>105100.0</td>\n      <td>100751.0</td>\n      <td>35487</td>\n      <td>100751.0</td>\n      <td>The University of Alabama</td>\n      <td>...</td>\n      <td>1.0</td>\n      <td>-2.0</td>\n      <td>-2.0</td>\n      <td>1125.0</td>\n      <td>Tuscaloosa County</td>\n      <td>107.0</td>\n      <td>-87.545978</td>\n      <td>33.211875</td>\n      <td>96.0</td>\n      <td>1.0</td>\n    </tr>\n    <tr>\n      <th>2</th>\n      <td>University of South Alabama</td>\n      <td>172750234</td>\n      <td>NaN</td>\n      <td>NaN</td>\n      <td>AL</td>\n      <td>105700.0</td>\n      <td>102094.0</td>\n      <td>36688</td>\n      <td>102094.0</td>\n      <td>University of South Alabama</td>\n      <td>...</td>\n      <td>1.0</td>\n      <td>380.0</td>\n      <td>-2.0</td>\n      <td>1097.0</td>\n      <td>Mobile County</td>\n      <td>101.0</td>\n      <td>-88.178711</td>\n      <td>30.696033</td>\n      <td>101.0</td>\n      <td>1.0</td>\n    </tr>\n    <tr>\n      <th>3</th>\n      <td>University of Alaska, Fairbanks</td>\n      <td>615245164</td>\n      <td>NaN</td>\n      <td>NaN</td>\n      <td>AK</td>\n      <td>106300.0</td>\n      <td>102614.0</td>\n      <td>99775</td>\n      <td>NaN</td>\n      <td>NaN</td>\n      <td>...</td>\n      <td>NaN</td>\n      <td>NaN</td>\n      <td>NaN</td>\n      <td>NaN</td>\n      <td>NaN</td>\n      <td>NaN</td>\n      <td>NaN</td>\n      <td>NaN</td>\n      <td>NaN</td>\n      <td>NaN</td>\n    </tr>\n    <tr>\n      <th>4</th>\n      <td>University of Arizona</td>\n      <td>806345617</td>\n      <td>NaN</td>\n      <td>NaN</td>\n      <td>AZ</td>\n      <td>108300.0</td>\n      <td>104179.0</td>\n      <td>85719</td>\n      <td>104179.0</td>\n      <td>University of Arizona</td>\n      <td>...</td>\n      <td>1.0</td>\n      <td>536.0</td>\n      <td>-2.0</td>\n      <td>4019.0</td>\n      <td>Pima County</td>\n      <td>403.0</td>\n      <td>-110.950815</td>\n      <td>32.232672</td>\n      <td>96.0</td>\n      <td>1.0</td>\n    </tr>\n    <tr>\n      <th>...</th>\n      <td>...</td>\n      <td>...</td>\n      <td>...</td>\n      <td>...</td>\n      <td>...</td>\n      <td>...</td>\n      <td>...</td>\n      <td>...</td>\n      <td>...</td>\n      <td>...</td>\n      <td>...</td>\n      <td>...</td>\n      <td>...</td>\n      <td>...</td>\n      <td>...</td>\n      <td>...</td>\n      <td>...</td>\n      <td>...</td>\n      <td>...</td>\n      <td>...</td>\n      <td>...</td>\n    </tr>\n    <tr>\n      <th>571</th>\n      <td>Wisconsin Department of Education</td>\n      <td>809611254</td>\n      <td>NaN</td>\n      <td>NaN</td>\n      <td>WI</td>\n      <td>NaN</td>\n      <td>NaN</td>\n      <td>53703</td>\n      <td>NaN</td>\n      <td>NaN</td>\n      <td>...</td>\n      <td>NaN</td>\n      <td>NaN</td>\n      <td>NaN</td>\n      <td>NaN</td>\n      <td>NaN</td>\n      <td>NaN</td>\n      <td>NaN</td>\n      <td>NaN</td>\n      <td>NaN</td>\n      <td>NaN</td>\n    </tr>\n    <tr>\n      <th>572</th>\n      <td>Wyoming Department of Education</td>\n      <td>809872336</td>\n      <td>NaN</td>\n      <td>NaN</td>\n      <td>WY</td>\n      <td>NaN</td>\n      <td>NaN</td>\n      <td>82001</td>\n      <td>NaN</td>\n      <td>NaN</td>\n      <td>...</td>\n      <td>NaN</td>\n      <td>NaN</td>\n      <td>NaN</td>\n      <td>NaN</td>\n      <td>NaN</td>\n      <td>NaN</td>\n      <td>NaN</td>\n      <td>NaN</td>\n      <td>NaN</td>\n      <td>NaN</td>\n    </tr>\n    <tr>\n      <th>573</th>\n      <td>Zaption</td>\n      <td>079279749</td>\n      <td>NaN</td>\n      <td>no special status</td>\n      <td>CA</td>\n      <td>NaN</td>\n      <td>NaN</td>\n      <td>91360</td>\n      <td>NaN</td>\n      <td>NaN</td>\n      <td>...</td>\n      <td>NaN</td>\n      <td>NaN</td>\n      <td>NaN</td>\n      <td>NaN</td>\n      <td>NaN</td>\n      <td>NaN</td>\n      <td>NaN</td>\n      <td>NaN</td>\n      <td>NaN</td>\n      <td>NaN</td>\n    </tr>\n    <tr>\n      <th>574</th>\n      <td>Zuni Learning Tree</td>\n      <td>080494814</td>\n      <td>NaN</td>\n      <td>Woman owned</td>\n      <td>AR</td>\n      <td>NaN</td>\n      <td>NaN</td>\n      <td>72034</td>\n      <td>NaN</td>\n      <td>NaN</td>\n      <td>...</td>\n      <td>NaN</td>\n      <td>NaN</td>\n      <td>NaN</td>\n      <td>NaN</td>\n      <td>NaN</td>\n      <td>NaN</td>\n      <td>NaN</td>\n      <td>NaN</td>\n      <td>NaN</td>\n      <td>NaN</td>\n    </tr>\n    <tr>\n      <th>575</th>\n      <td>Zyante</td>\n      <td>033385935</td>\n      <td>NaN</td>\n      <td>no special status</td>\n      <td>CA</td>\n      <td>NaN</td>\n      <td>NaN</td>\n      <td>95033</td>\n      <td>NaN</td>\n      <td>NaN</td>\n      <td>...</td>\n      <td>NaN</td>\n      <td>NaN</td>\n      <td>NaN</td>\n      <td>NaN</td>\n      <td>NaN</td>\n      <td>NaN</td>\n      <td>NaN</td>\n      <td>NaN</td>\n      <td>NaN</td>\n      <td>NaN</td>\n    </tr>\n  </tbody>\n</table>\n<p>576 rows × 80 columns</p>\n</div>"
     },
     "metadata": {},
     "execution_count": 83
    }
   ],
   "source": [
    "data3 = pd.read_excel(\"RevisedDUNS.xlsx\")\n",
    "data3\n",
    "df3 = pd.merge(data3, data2, on = \"DUNS\", how = \"left\")\n",
    "df3"
   ]
  },
  {
   "cell_type": "code",
   "execution_count": 84,
   "metadata": {},
   "outputs": [
    {
     "output_type": "execute_result",
     "data": {
      "text/plain": [
       "                        Institution name       DUNS AlternateDUNS  \\\n",
       "0    University of Alabama at Birmingham   63690705           NaN   \n",
       "1                  University of Alabama   45632635           NaN   \n",
       "2            University of South Alabama  172750234           NaN   \n",
       "3        University of Alaska, Fairbanks  615245164           NaN   \n",
       "4                  University of Arizona  806345617           NaN   \n",
       "..                                   ...        ...           ...   \n",
       "571    Wisconsin Department of Education  809611254           NaN   \n",
       "572      Wyoming Department of Education  809872336           NaN   \n",
       "573                              Zaption  079279749           NaN   \n",
       "574                   Zuni Learning Tree  080494814           NaN   \n",
       "575                               Zyante  033385935           NaN   \n",
       "\n",
       "                 notes State       OPE     IPEDs  ZIP_x    UNITID  \\\n",
       "0                  NaN    AL  105200.0  100663.0  35294  100663.0   \n",
       "1    Tuscaloosa (only)    AL  105100.0  100751.0  35487  100751.0   \n",
       "2                  NaN    AL  105700.0  102094.0  36688  102094.0   \n",
       "3                  NaN    AK  106300.0  102614.0  99775       NaN   \n",
       "4                  NaN    AZ  108300.0  104179.0  85719  104179.0   \n",
       "..                 ...   ...       ...       ...    ...       ...   \n",
       "571                NaN    WI       NaN       NaN  53703       NaN   \n",
       "572                NaN    WY       NaN       NaN  82001       NaN   \n",
       "573  no special status    CA       NaN       NaN  91360       NaN   \n",
       "574        Woman owned    AR       NaN       NaN  72034       NaN   \n",
       "575  no special status    CA       NaN       NaN  95033       NaN   \n",
       "\n",
       "                                  INSTNM  ... CBSATYPE    CSA NECTA COUNTYCD  \\\n",
       "0    University of Alabama at Birmingham  ...      1.0  142.0  -2.0   1073.0   \n",
       "1              The University of Alabama  ...      1.0   -2.0  -2.0   1125.0   \n",
       "2            University of South Alabama  ...      1.0  380.0  -2.0   1097.0   \n",
       "3                                    NaN  ...      NaN    NaN   NaN      NaN   \n",
       "4                  University of Arizona  ...      1.0  536.0  -2.0   4019.0   \n",
       "..                                   ...  ...      ...    ...   ...      ...   \n",
       "571                                  NaN  ...      NaN    NaN   NaN      NaN   \n",
       "572                                  NaN  ...      NaN    NaN   NaN      NaN   \n",
       "573                                  NaN  ...      NaN    NaN   NaN      NaN   \n",
       "574                                  NaN  ...      NaN    NaN   NaN      NaN   \n",
       "575                                  NaN  ...      NaN    NaN   NaN      NaN   \n",
       "\n",
       "              COUNTYNM  CNGDSTCD    LONGITUD   LATITUDE DFRCGID DFRCUSCG  \n",
       "0     Jefferson County     107.0  -86.799345  33.505697    98.0      1.0  \n",
       "1    Tuscaloosa County     107.0  -87.545978  33.211875    96.0      1.0  \n",
       "2        Mobile County     101.0  -88.178711  30.696033   101.0      1.0  \n",
       "3                  NaN       NaN         NaN        NaN     NaN      NaN  \n",
       "4          Pima County     403.0 -110.950815  32.232672    96.0      1.0  \n",
       "..                 ...       ...         ...        ...     ...      ...  \n",
       "571                NaN       NaN         NaN        NaN     NaN      NaN  \n",
       "572                NaN       NaN         NaN        NaN     NaN      NaN  \n",
       "573                NaN       NaN         NaN        NaN     NaN      NaN  \n",
       "574                NaN       NaN         NaN        NaN     NaN      NaN  \n",
       "575                NaN       NaN         NaN        NaN     NaN      NaN  \n",
       "\n",
       "[515 rows x 80 columns]"
      ],
      "text/html": "<div>\n<style scoped>\n    .dataframe tbody tr th:only-of-type {\n        vertical-align: middle;\n    }\n\n    .dataframe tbody tr th {\n        vertical-align: top;\n    }\n\n    .dataframe thead th {\n        text-align: right;\n    }\n</style>\n<table border=\"1\" class=\"dataframe\">\n  <thead>\n    <tr style=\"text-align: right;\">\n      <th></th>\n      <th>Institution name</th>\n      <th>DUNS</th>\n      <th>AlternateDUNS</th>\n      <th>notes</th>\n      <th>State</th>\n      <th>OPE</th>\n      <th>IPEDs</th>\n      <th>ZIP_x</th>\n      <th>UNITID</th>\n      <th>INSTNM</th>\n      <th>...</th>\n      <th>CBSATYPE</th>\n      <th>CSA</th>\n      <th>NECTA</th>\n      <th>COUNTYCD</th>\n      <th>COUNTYNM</th>\n      <th>CNGDSTCD</th>\n      <th>LONGITUD</th>\n      <th>LATITUDE</th>\n      <th>DFRCGID</th>\n      <th>DFRCUSCG</th>\n    </tr>\n  </thead>\n  <tbody>\n    <tr>\n      <th>0</th>\n      <td>University of Alabama at Birmingham</td>\n      <td>63690705</td>\n      <td>NaN</td>\n      <td>NaN</td>\n      <td>AL</td>\n      <td>105200.0</td>\n      <td>100663.0</td>\n      <td>35294</td>\n      <td>100663.0</td>\n      <td>University of Alabama at Birmingham</td>\n      <td>...</td>\n      <td>1.0</td>\n      <td>142.0</td>\n      <td>-2.0</td>\n      <td>1073.0</td>\n      <td>Jefferson County</td>\n      <td>107.0</td>\n      <td>-86.799345</td>\n      <td>33.505697</td>\n      <td>98.0</td>\n      <td>1.0</td>\n    </tr>\n    <tr>\n      <th>1</th>\n      <td>University of Alabama</td>\n      <td>45632635</td>\n      <td>NaN</td>\n      <td>Tuscaloosa (only)</td>\n      <td>AL</td>\n      <td>105100.0</td>\n      <td>100751.0</td>\n      <td>35487</td>\n      <td>100751.0</td>\n      <td>The University of Alabama</td>\n      <td>...</td>\n      <td>1.0</td>\n      <td>-2.0</td>\n      <td>-2.0</td>\n      <td>1125.0</td>\n      <td>Tuscaloosa County</td>\n      <td>107.0</td>\n      <td>-87.545978</td>\n      <td>33.211875</td>\n      <td>96.0</td>\n      <td>1.0</td>\n    </tr>\n    <tr>\n      <th>2</th>\n      <td>University of South Alabama</td>\n      <td>172750234</td>\n      <td>NaN</td>\n      <td>NaN</td>\n      <td>AL</td>\n      <td>105700.0</td>\n      <td>102094.0</td>\n      <td>36688</td>\n      <td>102094.0</td>\n      <td>University of South Alabama</td>\n      <td>...</td>\n      <td>1.0</td>\n      <td>380.0</td>\n      <td>-2.0</td>\n      <td>1097.0</td>\n      <td>Mobile County</td>\n      <td>101.0</td>\n      <td>-88.178711</td>\n      <td>30.696033</td>\n      <td>101.0</td>\n      <td>1.0</td>\n    </tr>\n    <tr>\n      <th>3</th>\n      <td>University of Alaska, Fairbanks</td>\n      <td>615245164</td>\n      <td>NaN</td>\n      <td>NaN</td>\n      <td>AK</td>\n      <td>106300.0</td>\n      <td>102614.0</td>\n      <td>99775</td>\n      <td>NaN</td>\n      <td>NaN</td>\n      <td>...</td>\n      <td>NaN</td>\n      <td>NaN</td>\n      <td>NaN</td>\n      <td>NaN</td>\n      <td>NaN</td>\n      <td>NaN</td>\n      <td>NaN</td>\n      <td>NaN</td>\n      <td>NaN</td>\n      <td>NaN</td>\n    </tr>\n    <tr>\n      <th>4</th>\n      <td>University of Arizona</td>\n      <td>806345617</td>\n      <td>NaN</td>\n      <td>NaN</td>\n      <td>AZ</td>\n      <td>108300.0</td>\n      <td>104179.0</td>\n      <td>85719</td>\n      <td>104179.0</td>\n      <td>University of Arizona</td>\n      <td>...</td>\n      <td>1.0</td>\n      <td>536.0</td>\n      <td>-2.0</td>\n      <td>4019.0</td>\n      <td>Pima County</td>\n      <td>403.0</td>\n      <td>-110.950815</td>\n      <td>32.232672</td>\n      <td>96.0</td>\n      <td>1.0</td>\n    </tr>\n    <tr>\n      <th>...</th>\n      <td>...</td>\n      <td>...</td>\n      <td>...</td>\n      <td>...</td>\n      <td>...</td>\n      <td>...</td>\n      <td>...</td>\n      <td>...</td>\n      <td>...</td>\n      <td>...</td>\n      <td>...</td>\n      <td>...</td>\n      <td>...</td>\n      <td>...</td>\n      <td>...</td>\n      <td>...</td>\n      <td>...</td>\n      <td>...</td>\n      <td>...</td>\n      <td>...</td>\n      <td>...</td>\n    </tr>\n    <tr>\n      <th>571</th>\n      <td>Wisconsin Department of Education</td>\n      <td>809611254</td>\n      <td>NaN</td>\n      <td>NaN</td>\n      <td>WI</td>\n      <td>NaN</td>\n      <td>NaN</td>\n      <td>53703</td>\n      <td>NaN</td>\n      <td>NaN</td>\n      <td>...</td>\n      <td>NaN</td>\n      <td>NaN</td>\n      <td>NaN</td>\n      <td>NaN</td>\n      <td>NaN</td>\n      <td>NaN</td>\n      <td>NaN</td>\n      <td>NaN</td>\n      <td>NaN</td>\n      <td>NaN</td>\n    </tr>\n    <tr>\n      <th>572</th>\n      <td>Wyoming Department of Education</td>\n      <td>809872336</td>\n      <td>NaN</td>\n      <td>NaN</td>\n      <td>WY</td>\n      <td>NaN</td>\n      <td>NaN</td>\n      <td>82001</td>\n      <td>NaN</td>\n      <td>NaN</td>\n      <td>...</td>\n      <td>NaN</td>\n      <td>NaN</td>\n      <td>NaN</td>\n      <td>NaN</td>\n      <td>NaN</td>\n      <td>NaN</td>\n      <td>NaN</td>\n      <td>NaN</td>\n      <td>NaN</td>\n      <td>NaN</td>\n    </tr>\n    <tr>\n      <th>573</th>\n      <td>Zaption</td>\n      <td>079279749</td>\n      <td>NaN</td>\n      <td>no special status</td>\n      <td>CA</td>\n      <td>NaN</td>\n      <td>NaN</td>\n      <td>91360</td>\n      <td>NaN</td>\n      <td>NaN</td>\n      <td>...</td>\n      <td>NaN</td>\n      <td>NaN</td>\n      <td>NaN</td>\n      <td>NaN</td>\n      <td>NaN</td>\n      <td>NaN</td>\n      <td>NaN</td>\n      <td>NaN</td>\n      <td>NaN</td>\n      <td>NaN</td>\n    </tr>\n    <tr>\n      <th>574</th>\n      <td>Zuni Learning Tree</td>\n      <td>080494814</td>\n      <td>NaN</td>\n      <td>Woman owned</td>\n      <td>AR</td>\n      <td>NaN</td>\n      <td>NaN</td>\n      <td>72034</td>\n      <td>NaN</td>\n      <td>NaN</td>\n      <td>...</td>\n      <td>NaN</td>\n      <td>NaN</td>\n      <td>NaN</td>\n      <td>NaN</td>\n      <td>NaN</td>\n      <td>NaN</td>\n      <td>NaN</td>\n      <td>NaN</td>\n      <td>NaN</td>\n      <td>NaN</td>\n    </tr>\n    <tr>\n      <th>575</th>\n      <td>Zyante</td>\n      <td>033385935</td>\n      <td>NaN</td>\n      <td>no special status</td>\n      <td>CA</td>\n      <td>NaN</td>\n      <td>NaN</td>\n      <td>95033</td>\n      <td>NaN</td>\n      <td>NaN</td>\n      <td>...</td>\n      <td>NaN</td>\n      <td>NaN</td>\n      <td>NaN</td>\n      <td>NaN</td>\n      <td>NaN</td>\n      <td>NaN</td>\n      <td>NaN</td>\n      <td>NaN</td>\n      <td>NaN</td>\n      <td>NaN</td>\n    </tr>\n  </tbody>\n</table>\n<p>515 rows × 80 columns</p>\n</div>"
     },
     "metadata": {},
     "execution_count": 84
    }
   ],
   "source": [
    "df4 = df3.drop_duplicates(\"Institution name\")\n",
    "df4"
   ]
  },
  {
   "cell_type": "code",
   "execution_count": 85,
   "metadata": {},
   "outputs": [
    {
     "output_type": "execute_result",
     "data": {
      "text/plain": [
       "                        Institution name       DUNS     OPEID     IPEDs  \\\n",
       "0    University of Alabama at Birmingham   63690705  105200.0  100663.0   \n",
       "1                  University of Alabama   45632635  105100.0  100751.0   \n",
       "2            University of South Alabama  172750234  105700.0  102094.0   \n",
       "3        University of Alaska, Fairbanks  615245164       NaN  102614.0   \n",
       "4                  University of Arizona  806345617  108300.0  104179.0   \n",
       "..                                   ...        ...       ...       ...   \n",
       "571    Wisconsin Department of Education  809611254       NaN       NaN   \n",
       "572      Wyoming Department of Education  809872336       NaN       NaN   \n",
       "573                              Zaption  079279749       NaN       NaN   \n",
       "574                   Zuni Learning Tree  080494814       NaN       NaN   \n",
       "575                               Zyante  033385935       NaN       NaN   \n",
       "\n",
       "     ZIP_x              notes State    UNITID  SECTOR  HBCU  TRIBAL  LOCALE  \\\n",
       "0    35294                NaN    AL  100663.0     1.0   2.0     2.0    12.0   \n",
       "1    35487  Tuscaloosa (only)    AL  100751.0     1.0   2.0     2.0    12.0   \n",
       "2    36688                NaN    AL  102094.0     1.0   2.0     2.0    12.0   \n",
       "3    99775                NaN    AK       NaN     NaN   NaN     NaN     NaN   \n",
       "4    85719                NaN    AZ  104179.0     1.0   2.0     2.0    11.0   \n",
       "..     ...                ...   ...       ...     ...   ...     ...     ...   \n",
       "571  53703                NaN    WI       NaN     NaN   NaN     NaN     NaN   \n",
       "572  82001                NaN    WY       NaN     NaN   NaN     NaN     NaN   \n",
       "573  91360  no special status    CA       NaN     NaN   NaN     NaN     NaN   \n",
       "574  72034        Woman owned    AR       NaN     NaN   NaN     NaN     NaN   \n",
       "575  95033  no special status    CA       NaN     NaN   NaN     NaN     NaN   \n",
       "\n",
       "     OPENPUBL  CARNEGIE    LONGITUD   LATITUDE  \n",
       "0         1.0      15.0  -86.799345  33.505697  \n",
       "1         1.0      15.0  -87.545978  33.211875  \n",
       "2         1.0      16.0  -88.178711  30.696033  \n",
       "3         NaN       NaN         NaN        NaN  \n",
       "4         1.0      15.0 -110.950815  32.232672  \n",
       "..        ...       ...         ...        ...  \n",
       "571       NaN       NaN         NaN        NaN  \n",
       "572       NaN       NaN         NaN        NaN  \n",
       "573       NaN       NaN         NaN        NaN  \n",
       "574       NaN       NaN         NaN        NaN  \n",
       "575       NaN       NaN         NaN        NaN  \n",
       "\n",
       "[515 rows x 16 columns]"
      ],
      "text/html": "<div>\n<style scoped>\n    .dataframe tbody tr th:only-of-type {\n        vertical-align: middle;\n    }\n\n    .dataframe tbody tr th {\n        vertical-align: top;\n    }\n\n    .dataframe thead th {\n        text-align: right;\n    }\n</style>\n<table border=\"1\" class=\"dataframe\">\n  <thead>\n    <tr style=\"text-align: right;\">\n      <th></th>\n      <th>Institution name</th>\n      <th>DUNS</th>\n      <th>OPEID</th>\n      <th>IPEDs</th>\n      <th>ZIP_x</th>\n      <th>notes</th>\n      <th>State</th>\n      <th>UNITID</th>\n      <th>SECTOR</th>\n      <th>HBCU</th>\n      <th>TRIBAL</th>\n      <th>LOCALE</th>\n      <th>OPENPUBL</th>\n      <th>CARNEGIE</th>\n      <th>LONGITUD</th>\n      <th>LATITUDE</th>\n    </tr>\n  </thead>\n  <tbody>\n    <tr>\n      <th>0</th>\n      <td>University of Alabama at Birmingham</td>\n      <td>63690705</td>\n      <td>105200.0</td>\n      <td>100663.0</td>\n      <td>35294</td>\n      <td>NaN</td>\n      <td>AL</td>\n      <td>100663.0</td>\n      <td>1.0</td>\n      <td>2.0</td>\n      <td>2.0</td>\n      <td>12.0</td>\n      <td>1.0</td>\n      <td>15.0</td>\n      <td>-86.799345</td>\n      <td>33.505697</td>\n    </tr>\n    <tr>\n      <th>1</th>\n      <td>University of Alabama</td>\n      <td>45632635</td>\n      <td>105100.0</td>\n      <td>100751.0</td>\n      <td>35487</td>\n      <td>Tuscaloosa (only)</td>\n      <td>AL</td>\n      <td>100751.0</td>\n      <td>1.0</td>\n      <td>2.0</td>\n      <td>2.0</td>\n      <td>12.0</td>\n      <td>1.0</td>\n      <td>15.0</td>\n      <td>-87.545978</td>\n      <td>33.211875</td>\n    </tr>\n    <tr>\n      <th>2</th>\n      <td>University of South Alabama</td>\n      <td>172750234</td>\n      <td>105700.0</td>\n      <td>102094.0</td>\n      <td>36688</td>\n      <td>NaN</td>\n      <td>AL</td>\n      <td>102094.0</td>\n      <td>1.0</td>\n      <td>2.0</td>\n      <td>2.0</td>\n      <td>12.0</td>\n      <td>1.0</td>\n      <td>16.0</td>\n      <td>-88.178711</td>\n      <td>30.696033</td>\n    </tr>\n    <tr>\n      <th>3</th>\n      <td>University of Alaska, Fairbanks</td>\n      <td>615245164</td>\n      <td>NaN</td>\n      <td>102614.0</td>\n      <td>99775</td>\n      <td>NaN</td>\n      <td>AK</td>\n      <td>NaN</td>\n      <td>NaN</td>\n      <td>NaN</td>\n      <td>NaN</td>\n      <td>NaN</td>\n      <td>NaN</td>\n      <td>NaN</td>\n      <td>NaN</td>\n      <td>NaN</td>\n    </tr>\n    <tr>\n      <th>4</th>\n      <td>University of Arizona</td>\n      <td>806345617</td>\n      <td>108300.0</td>\n      <td>104179.0</td>\n      <td>85719</td>\n      <td>NaN</td>\n      <td>AZ</td>\n      <td>104179.0</td>\n      <td>1.0</td>\n      <td>2.0</td>\n      <td>2.0</td>\n      <td>11.0</td>\n      <td>1.0</td>\n      <td>15.0</td>\n      <td>-110.950815</td>\n      <td>32.232672</td>\n    </tr>\n    <tr>\n      <th>...</th>\n      <td>...</td>\n      <td>...</td>\n      <td>...</td>\n      <td>...</td>\n      <td>...</td>\n      <td>...</td>\n      <td>...</td>\n      <td>...</td>\n      <td>...</td>\n      <td>...</td>\n      <td>...</td>\n      <td>...</td>\n      <td>...</td>\n      <td>...</td>\n      <td>...</td>\n      <td>...</td>\n    </tr>\n    <tr>\n      <th>571</th>\n      <td>Wisconsin Department of Education</td>\n      <td>809611254</td>\n      <td>NaN</td>\n      <td>NaN</td>\n      <td>53703</td>\n      <td>NaN</td>\n      <td>WI</td>\n      <td>NaN</td>\n      <td>NaN</td>\n      <td>NaN</td>\n      <td>NaN</td>\n      <td>NaN</td>\n      <td>NaN</td>\n      <td>NaN</td>\n      <td>NaN</td>\n      <td>NaN</td>\n    </tr>\n    <tr>\n      <th>572</th>\n      <td>Wyoming Department of Education</td>\n      <td>809872336</td>\n      <td>NaN</td>\n      <td>NaN</td>\n      <td>82001</td>\n      <td>NaN</td>\n      <td>WY</td>\n      <td>NaN</td>\n      <td>NaN</td>\n      <td>NaN</td>\n      <td>NaN</td>\n      <td>NaN</td>\n      <td>NaN</td>\n      <td>NaN</td>\n      <td>NaN</td>\n      <td>NaN</td>\n    </tr>\n    <tr>\n      <th>573</th>\n      <td>Zaption</td>\n      <td>079279749</td>\n      <td>NaN</td>\n      <td>NaN</td>\n      <td>91360</td>\n      <td>no special status</td>\n      <td>CA</td>\n      <td>NaN</td>\n      <td>NaN</td>\n      <td>NaN</td>\n      <td>NaN</td>\n      <td>NaN</td>\n      <td>NaN</td>\n      <td>NaN</td>\n      <td>NaN</td>\n      <td>NaN</td>\n    </tr>\n    <tr>\n      <th>574</th>\n      <td>Zuni Learning Tree</td>\n      <td>080494814</td>\n      <td>NaN</td>\n      <td>NaN</td>\n      <td>72034</td>\n      <td>Woman owned</td>\n      <td>AR</td>\n      <td>NaN</td>\n      <td>NaN</td>\n      <td>NaN</td>\n      <td>NaN</td>\n      <td>NaN</td>\n      <td>NaN</td>\n      <td>NaN</td>\n      <td>NaN</td>\n      <td>NaN</td>\n    </tr>\n    <tr>\n      <th>575</th>\n      <td>Zyante</td>\n      <td>033385935</td>\n      <td>NaN</td>\n      <td>NaN</td>\n      <td>95033</td>\n      <td>no special status</td>\n      <td>CA</td>\n      <td>NaN</td>\n      <td>NaN</td>\n      <td>NaN</td>\n      <td>NaN</td>\n      <td>NaN</td>\n      <td>NaN</td>\n      <td>NaN</td>\n      <td>NaN</td>\n      <td>NaN</td>\n    </tr>\n  </tbody>\n</table>\n<p>515 rows × 16 columns</p>\n</div>"
     },
     "metadata": {},
     "execution_count": 85
    }
   ],
   "source": [
    "df5 = df4[[\"Institution name\", \"DUNS\",\"OPEID\",\"IPEDs\",\"ZIP_x\",\"notes\",\"State\",\"UNITID\",\"SECTOR\",\"HBCU\",\"TRIBAL\",\"LOCALE\",\"OPENPUBL\",\"CARNEGIE\",\"LONGITUD\",\"LATITUDE\"]]\n",
    "df5"
   ]
  },
  {
   "cell_type": "code",
   "execution_count": 86,
   "metadata": {},
   "outputs": [],
   "source": [
    "df5.to_csv(\"output3.csv\")"
   ]
  }
 ]
}